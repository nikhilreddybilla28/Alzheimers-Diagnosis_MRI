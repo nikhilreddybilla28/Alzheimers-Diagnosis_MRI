{
  "nbformat": 4,
  "nbformat_minor": 0,
  "metadata": {
    "colab": {
      "name": "Alzheimers-MRI(D).ipynb",
      "provenance": [],
      "collapsed_sections": [],
      "authorship_tag": "ABX9TyPRvCdmahmdmW1L9qEZfVBP",
      "include_colab_link": true
    },
    "kernelspec": {
      "name": "python3",
      "display_name": "Python 3"
    }
  },
  "cells": [
    {
      "cell_type": "markdown",
      "metadata": {
        "id": "view-in-github",
        "colab_type": "text"
      },
      "source": [
        "<a href=\"https://colab.research.google.com/github/nikhilreddybilla28/Alzheimers-Diagnosis_MRI/blob/main/Alzheimers_MRI_D.ipynb\" target=\"_parent\"><img src=\"https://colab.research.google.com/assets/colab-badge.svg\" alt=\"Open In Colab\"/></a>"
      ]
    },
    {
      "cell_type": "code",
      "metadata": {
        "id": "fTgB4FFitAlI"
      },
      "source": [
        "#classifier\n",
        "import urllib.request\n",
        "from fastai.vision import *\n",
        "\n",
        "defaults.device = torch.device('cpu')\n",
        "\n",
        "\n",
        "MODEL_URL = \"https://drive.google.com/u/5/uc?id=1um_Vk-lilnvOr31D_fSbIbIfGK4sNJoD&export=download\"\n",
        "urllib.request.urlretrieve(MODEL_URL, \"export.pkl\")\n",
        "path = Path(\".\")\n",
        "\n",
        "learner = load_learner(path, \"export.pkl\")\n",
        "\n",
        "def classify(url):\n",
        "  urllib.request.urlretrieve(url, \"image.jpg\")\n",
        "  img = open_image(\"image.jpg\")\n",
        "\n",
        "  pred_class,_,probs = learner.predict(img)\n",
        "  return pred_class.obj, learner.data.classes, probs.tolist()"
      ],
      "execution_count": null,
      "outputs": []
    },
    {
      "cell_type": "code",
      "metadata": {
        "id": "Bv2XTrDft0WZ"
      },
      "source": [
        "# interface\n",
        "import ipywidgets as widgets\n",
        "from IPython.display import display\n",
        "\n",
        "def classify_on_click(btn):\n",
        "  htmlResult.value = \"<h3>Analysing...</h3>\"\n",
        "  display_image(txtURL.value)\n",
        "  pred_class,classes,probs = classify(txtURL.value)\n",
        "  pred_class = pred_class.replace(\"-clown\", \"\") \n",
        "\n",
        "  html = \"<div align='center'>\"\n",
        "  html += \"<h3>This is  \" + pred_class + \"</h3>\"\n",
        "  html += \"Probilities: \" \n",
        "  html += classes[0] + \"=\" + \"{:1.2f}\".format(probs[0]) + \", \"\n",
        "  html += classes[1] + \"=\" + \"{:1.2f}\".format(probs[1]) + \", \"\n",
        "  html += classes[2] + \"=\" + \"{:1.2f}\".format(probs[2]) + \", \"\n",
        "  html += classes[3] + \"=\" + \"{:1.2f}\".format(probs[3]) \n",
        "  html += \"</div>\"\n",
        "  htmlResult.value = html\n",
        "\n",
        "def display_image(url):\n",
        "  htmlImage.value= \"<img src='\" + url + \"' width='300'>\"\n",
        "\n",
        "DEFAULT_IMG = \"https://drive.google.com/u/5/uc?id=1fdqmz9MUyQEjAUI2_MgEsV4IcsgVXwu7&export=download\"\n",
        "\n",
        "htmlImage = widgets.HTML(value=\"\")\n",
        "display_image(DEFAULT_IMG)\n",
        "\n",
        "txtURL = widgets.Text(description=\"URL:\", placeholder=\"Enter the URL Head MRI picture\")\n",
        "txtURL.layout.width = \"500px\"\n",
        "btnClassify = widgets.Button(description=\"Diagnose AD\")\n",
        "btnClassify.on_click(classify_on_click)\n",
        "boxH = widgets.HBox([txtURL, btnClassify])\n",
        "\n",
        "htmlResult = widgets.HTML(value=\"<h3>I fed MRIs to a fastai convnet. They did great .</h3>\")\n",
        "htmlResult.layout.margin = \"0px 0px 40px 0px\"\n",
        "\n",
        "boxV = widgets.VBox([htmlImage, boxH, htmlResult])\n",
        "\n",
        "boxV.layout.align_items = \"center\"\n",
        "display(boxV)\n",
        "\n",
        "# give them some examples to play with without getting urls\n",
        "def example_on_click(btn):\n",
        "  txtURL.value = btn.tag\n",
        "  classify_on_click(btnClassify)\n",
        "\n",
        "def create_example(url):\n",
        "  img = widgets.HTML(\"<img src='\" + url + \"' height='100'>\")\n",
        "  btn = widgets.Button(description=\"Test\")\n",
        "  btn.tag = url\n",
        "  btn.on_click(example_on_click)\n",
        "  vbox = widgets.VBox([img,btn])\n",
        "  vbox.layout.align_items = \"center\"\n",
        "  return vbox\n",
        "\n",
        "urls = [\n",
        "  \"https://github.com/nikhilreddybilla28/Alzheimers-Diagnosis_MRI/blob/main/test/md1.jpg\", \n",
        "  \"https://github.com/nikhilreddybilla28/Alzheimers-Diagnosis_MRI/blob/main/test/md2.jpg\",\n",
        "  \"https://github.com/nikhilreddybilla28/Alzheimers-Diagnosis_MRI/blob/main/test/mod1.jpg\",\n",
        "  \"https://github.com/nikhilreddybilla28/Alzheimers-Diagnosis_MRI/blob/main/test/mod2.jpg\", \n",
        "  \"https://github.com/nikhilreddybilla28/Alzheimers-Diagnosis_MRI/blob/main/test/nd1.jpg\",\n",
        "  \"https://github.com/nikhilreddybilla28/Alzheimers-Diagnosis_MRI/blob/main/test/nd2.jpg\",\n",
        "  \"https://github.com/nikhilreddybilla28/Alzheimers-Diagnosis_MRI/blob/main/test/vmd1.jpg\", \n",
        "  \"https://github.com/nikhilreddybilla28/Alzheimers-Diagnosis_MRI/blob/main/test/vmd2.jpg\"\n",
        "  ]\n",
        "  \n",
        "items = []\n",
        "for url in urls:\n",
        "    items.append(create_example(url))\n",
        "\n",
        "grid = widgets.GridBox(items, layout=widgets.Layout(grid_template_columns=\"repeat(3, 33%)\"))\n",
        "display(grid)"
      ],
      "execution_count": null,
      "outputs": []
    }
  ]
}